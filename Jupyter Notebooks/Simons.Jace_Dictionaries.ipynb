{
 "cells": [
  {
   "cell_type": "markdown",
   "source": [
    "Jace Simons / FRCC OOP with Python / 2/8/22"
   ],
   "metadata": {
    "collapsed": false
   }
  },
  {
   "cell_type": "markdown",
   "source": [
    "Dictionaries"
   ],
   "metadata": {
    "collapsed": false
   }
  },
  {
   "cell_type": "markdown",
   "source": [
    "In Python, a dictionary is like a list. The index can be almost any type. A dictionary maps a set of indices with a set of values, otherwise known as key-value pairs.\n",
    "To initialize a dictionary in python, we use the dict function."
   ],
   "metadata": {
    "collapsed": false
   }
  },
  {
   "cell_type": "markdown",
   "source": [],
   "metadata": {
    "collapsed": false
   }
  },
  {
   "cell_type": "code",
   "execution_count": 1,
   "metadata": {
    "collapsed": true
   },
   "outputs": [
    {
     "name": "stdout",
     "output_type": "stream",
     "text": [
      "{}\n"
     ]
    }
   ],
   "source": [
    "myDict = dict()\n",
    "print(myDict)"
   ]
  },
  {
   "cell_type": "markdown",
   "source": [
    "The output of the {} means that the dictionary is empty. We can put stuff in the dictionary using []"
   ],
   "metadata": {
    "collapsed": false
   }
  },
  {
   "cell_type": "code",
   "execution_count": null,
   "outputs": [],
   "source": [
    "myDict[\"Name\"] = \"Jace\""
   ],
   "metadata": {
    "collapsed": false,
    "pycharm": {
     "name": "#%%\n"
    }
   }
  },
  {
   "cell_type": "markdown",
   "source": [
    "This line maps the key \"Name\" to the value \"Jace\".\n",
    "Let's print it!"
   ],
   "metadata": {
    "collapsed": false
   }
  },
  {
   "cell_type": "code",
   "execution_count": 3,
   "outputs": [
    {
     "name": "stdout",
     "output_type": "stream",
     "text": [
      "{'Name': 'Jace'}\n"
     ]
    }
   ],
   "source": [
    "myDict = dict()\n",
    "myDict[\"Name\"] = \"Jace\"\n",
    "print(myDict)"
   ],
   "metadata": {
    "collapsed": false,
    "pycharm": {
     "name": "#%%\n"
    }
   }
  },
  {
   "cell_type": "markdown",
   "source": [
    "You can iterate through dictionaries to do things with its elements.\n",
    "We can construct a simple for loop to interact with its elements. Let's try it!"
   ],
   "metadata": {
    "collapsed": false
   }
  },
  {
   "cell_type": "code",
   "execution_count": 4,
   "outputs": [
    {
     "name": "stdout",
     "output_type": "stream",
     "text": [
      "Jack failed this assignment.\n",
      "Anika failed this assignment.\n"
     ]
    }
   ],
   "source": [
    "grades = {'Adi' : 90, 'Stephen' : 70, 'Jace' : 105, 'Jack' : 51, 'Anika' : 20}\n",
    "for key in grades:\n",
    "    if grades[key] < 60:\n",
    "        print (key + \" failed this assignment.\")"
   ],
   "metadata": {
    "collapsed": false,
    "pycharm": {
     "name": "#%%\n"
    }
   }
  },
  {
   "cell_type": "markdown",
   "source": [],
   "metadata": {
    "collapsed": false
   }
  }
 ],
 "metadata": {
  "kernelspec": {
   "display_name": "Python 3",
   "language": "python",
   "name": "python3"
  },
  "language_info": {
   "codemirror_mode": {
    "name": "ipython",
    "version": 2
   },
   "file_extension": ".py",
   "mimetype": "text/x-python",
   "name": "python",
   "nbconvert_exporter": "python",
   "pygments_lexer": "ipython2",
   "version": "2.7.6"
  }
 },
 "nbformat": 4,
 "nbformat_minor": 0
}