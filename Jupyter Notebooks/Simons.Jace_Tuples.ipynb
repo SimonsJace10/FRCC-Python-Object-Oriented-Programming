{
 "cells": [
  {
   "cell_type": "markdown",
   "source": [
    "Jace Simons / FRCC OOP with Python / 2/8/22"
   ],
   "metadata": {
    "collapsed": false
   }
  },
  {
   "cell_type": "markdown",
   "source": [
    "Tuples"
   ],
   "metadata": {
    "collapsed": false
   }
  },
  {
   "cell_type": "markdown",
   "source": [
    "A tuple in python mimics vectors in other languages, although a tuple can contain more than 2 elements. A tuple is indexed by integers, and values can be of any type.\n",
    "However, the most important part about Tuples is that they are immutable, which means their values cannot be changed after they are instantiated. This means you can use tuples as keys or values in dictionaries"
   ],
   "metadata": {
    "collapsed": false
   }
  },
  {
   "cell_type": "code",
   "execution_count": null,
   "metadata": {
    "collapsed": true
   },
   "outputs": [],
   "source": [
    "myTuple = '1', '2', '3', '4', '5'"
   ]
  },
  {
   "cell_type": "markdown",
   "source": [
    "Above is how to instantiate a basic tuple in Python containing numbers 1 - 5. We could access these elements by calling their index:"
   ],
   "metadata": {
    "collapsed": false
   }
  },
  {
   "cell_type": "code",
   "execution_count": 2,
   "outputs": [
    {
     "name": "stdout",
     "output_type": "stream",
     "text": [
      "2\n"
     ]
    }
   ],
   "source": [
    "myTuple = '1', '2', '3', '4', '5'\n",
    "num = myTuple[1]\n",
    "print(num)"
   ],
   "metadata": {
    "collapsed": false,
    "pycharm": {
     "name": "#%%\n"
    }
   }
  },
  {
   "cell_type": "markdown",
   "source": [
    "When you call the .items method on a dictionary, the dictionary returns a list of tuples, where the first item is a key and the second is the value."
   ],
   "metadata": {
    "collapsed": false
   }
  },
  {
   "cell_type": "markdown",
   "source": [],
   "metadata": {
    "collapsed": false
   }
  },
  {
   "cell_type": "code",
   "execution_count": 1,
   "outputs": [
    {
     "name": "stdout",
     "output_type": "stream",
     "text": [
      "dict_items([('A', 'a'), ('B', 'b'), ('C', 'c')])\n"
     ]
    }
   ],
   "source": [
    "myDict = {'A' : 'a', 'B' : 'b', 'C' : 'c'}\n",
    "print(myDict.items())"
   ],
   "metadata": {
    "collapsed": false,
    "pycharm": {
     "name": "#%%\n"
    }
   }
  }
 ],
 "metadata": {
  "kernelspec": {
   "display_name": "Python 3",
   "language": "python",
   "name": "python3"
  },
  "language_info": {
   "codemirror_mode": {
    "name": "ipython",
    "version": 2
   },
   "file_extension": ".py",
   "mimetype": "text/x-python",
   "name": "python",
   "nbconvert_exporter": "python",
   "pygments_lexer": "ipython2",
   "version": "2.7.6"
  }
 },
 "nbformat": 4,
 "nbformat_minor": 0
}